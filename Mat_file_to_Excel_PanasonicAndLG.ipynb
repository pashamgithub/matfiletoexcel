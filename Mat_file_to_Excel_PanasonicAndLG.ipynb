{
 "cells": [
  {
   "cell_type": "code",
   "execution_count": 1,
   "id": "37368d77",
   "metadata": {},
   "outputs": [
    {
     "name": "stderr",
     "output_type": "stream",
     "text": [
      "C:\\Users\\thiru\\anaconda3\\lib\\site-packages\\scipy\\__init__.py:146: UserWarning: A NumPy version >=1.16.5 and <1.23.0 is required for this version of SciPy (detected version 1.24.3\n",
      "  warnings.warn(f\"A NumPy version >={np_minversion} and <{np_maxversion}\"\n"
     ]
    }
   ],
   "source": [
    "import pandas as pd\n",
    "import numpy as np\n",
    "import math\n",
    "import csv\n",
    "import matplotlib.pyplot as plt\n",
    "import sympy as smp\n",
    "import re\n",
    "from tqdm import tqdm\n",
    "from scipy.linalg import svd\n",
    "import scipy\n",
    "from scipy.optimize import curve_fit \n",
    "import time\n",
    "import os"
   ]
  },
  {
   "cell_type": "code",
   "execution_count": 2,
   "id": "89eaf783",
   "metadata": {},
   "outputs": [],
   "source": [
    "from mat4py import loadmat"
   ]
  },
  {
   "cell_type": "code",
   "execution_count": 3,
   "id": "6991d735",
   "metadata": {},
   "outputs": [],
   "source": [
    "def avg(volt,curr,delta):\n",
    "    V_avg,I_avg = [],[]\n",
    "    for i in range(len(volt)):\n",
    "        if i <delta:\n",
    "            V_avg.append(volt[i])\n",
    "            I_avg.append(curr[i])\n",
    "        elif i>=delta:\n",
    "            V_avg.append(np.mean(volt[i-delta:i])) \n",
    "            I_avg.append(np.mean(curr[i-delta:i]))\n",
    "    return V_avg,I_avg"
   ]
  },
  {
   "cell_type": "code",
   "execution_count": 4,
   "id": "1acc21b8",
   "metadata": {},
   "outputs": [],
   "source": [
    "ExcelFiles = r'D:\\ExcelFilesLGData'\n",
    "data_LG = r'E:\\Data_practise\\LG_HG2_Original_Dataset_McMasterUniversity_Jan_2020'\n",
    "if not os.path.isdir(ExcelFiles ):\n",
    "    os.makedirs(ExcelFiles)"
   ]
  },
  {
   "cell_type": "code",
   "execution_count": 16,
   "id": "f6ab8583",
   "metadata": {
    "scrolled": true
   },
   "outputs": [
    {
     "name": "stderr",
     "output_type": "stream",
     "text": [
      "100%|███████████████████████████████████████████████████████████████████████████████████| 4/4 [19:44<00:00, 296.25s/it]\n"
     ]
    }
   ],
   "source": [
    "temperature =  [-20,-10,0,10]\n",
    "for temp in tqdm(temperature):\n",
    "    matfiledir = r'C:\\Users\\thiru\\OneDrive\\Desktop\\DATA_DEEPLEARNING\\Panasonic 18650PF Data\\{}degC\\Drive cycles'.format(temp)\n",
    "    fileslist = os.listdir(matfiledir)\n",
    "    for matfiles in fileslist:\n",
    "        matfilepath = os.path.join(matfiledir,matfiles)\n",
    "        matdata = loadmat(matfilepath)['meas']\n",
    "        voltage = [i[0] for i in matdata['Voltage']]\n",
    "        current = [i[0] for i in matdata['Current']]\n",
    "        Ah = [i[0] for i in matdata['Ah']]\n",
    "        max_cap = np.max(np.abs(Ah))\n",
    "        soc = list(map(lambda x: ((max_cap-x)/max_cap)*100,np.abs(Ah)))\n",
    "        CellTemp = [i[0] for i in matdata['Battery_Temp_degC']]\n",
    "        V_avg,I_avg = avg(voltage,current,399)                                     # data avg window size of 399 \n",
    "        DictData = {'voltage':[],'current':[],'V_avg':[],'I_avg':[],'soc':[],'Temp':[]}\n",
    "        DictData['voltage'] = voltage\n",
    "        DictData['current'] = current\n",
    "        DictData['soc'] = soc\n",
    "        DictData['Temp'] = CellTemp\n",
    "        DictData['V_avg']= V_avg\n",
    "        DictData['I_avg']= I_avg\n",
    "        DictDataDf = pd.DataFrame(DictData)\n",
    "        ExcelFilePath = os.path.join(ExcelFiles,'{}degCExcelFiles.xlsx'.format(temp))\n",
    "        sheetname = matfiles.split(' ')[-1].split('.')[0].split('_')[-1]\n",
    "        with pd.ExcelWriter(ExcelFilePath) as Wrtiter:\n",
    "            DictDataDf.to_excel(Wrtiter,sheet_name = sheetname)\n",
    "        "
   ]
  },
  {
   "cell_type": "code",
   "execution_count": null,
   "id": "156b1f78",
   "metadata": {},
   "outputs": [],
   "source": []
  }
 ],
 "metadata": {
  "kernelspec": {
   "display_name": "Python 3 (ipykernel)",
   "language": "python",
   "name": "python3"
  },
  "language_info": {
   "codemirror_mode": {
    "name": "ipython",
    "version": 3
   },
   "file_extension": ".py",
   "mimetype": "text/x-python",
   "name": "python",
   "nbconvert_exporter": "python",
   "pygments_lexer": "ipython3",
   "version": "3.9.12"
  }
 },
 "nbformat": 4,
 "nbformat_minor": 5
}
